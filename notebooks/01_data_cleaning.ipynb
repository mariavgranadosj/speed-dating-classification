{
 "cells": [
  {
   "cell_type": "markdown",
   "id": "59e8aa8d",
   "metadata": {},
   "source": [
    "Ingesting original data"
   ]
  },
  {
   "cell_type": "code",
   "execution_count": 25,
   "id": "89ed6e10",
   "metadata": {
    "vscode": {
     "languageId": "r"
    }
   },
   "outputs": [],
   "source": [
    "library(tidyverse)"
   ]
  },
  {
   "cell_type": "code",
   "execution_count": 26,
   "id": "7a5f97d4",
   "metadata": {
    "vscode": {
     "languageId": "r"
    }
   },
   "outputs": [],
   "source": [
    "originalData <- read.csv(\"./speeddating_raw.csv\")"
   ]
  },
  {
   "cell_type": "code",
   "execution_count": 27,
   "id": "e48e03d4",
   "metadata": {
    "vscode": {
     "languageId": "r"
    }
   },
   "outputs": [
    {
     "data": {
      "text/html": [
       "<style>\n",
       ".list-inline {list-style: none; margin:0; padding: 0}\n",
       ".list-inline>li {display: inline-block}\n",
       ".list-inline>li:not(:last-child)::after {content: \"\\00b7\"; padding: 0 .5ex}\n",
       "</style>\n",
       "<ol class=list-inline><li>'has_null'</li><li>'wave'</li><li>'gender'</li><li>'age'</li><li>'age_o'</li><li>'d_age'</li><li>'d_d_age'</li><li>'race'</li><li>'race_o'</li><li>'samerace'</li><li>'importance_same_race'</li><li>'importance_same_religion'</li><li>'d_importance_same_race'</li><li>'d_importance_same_religion'</li><li>'field'</li><li>'pref_o_attractive'</li><li>'pref_o_sincere'</li><li>'pref_o_intelligence'</li><li>'pref_o_funny'</li><li>'pref_o_ambitious'</li><li>'pref_o_shared_interests'</li><li>'d_pref_o_attractive'</li><li>'d_pref_o_sincere'</li><li>'d_pref_o_intelligence'</li><li>'d_pref_o_funny'</li><li>'d_pref_o_ambitious'</li><li>'d_pref_o_shared_interests'</li><li>'attractive_o'</li><li>'sinsere_o'</li><li>'intelligence_o'</li><li>'funny_o'</li><li>'ambitous_o'</li><li>'shared_interests_o'</li><li>'d_attractive_o'</li><li>'d_sinsere_o'</li><li>'d_intelligence_o'</li><li>'d_funny_o'</li><li>'d_ambitous_o'</li><li>'d_shared_interests_o'</li><li>'attractive_important'</li><li>'sincere_important'</li><li>'intellicence_important'</li><li>'funny_important'</li><li>'ambtition_important'</li><li>'shared_interests_important'</li><li>'d_attractive_important'</li><li>'d_sincere_important'</li><li>'d_intellicence_important'</li><li>'d_funny_important'</li><li>'d_ambtition_important'</li><li>'d_shared_interests_important'</li><li>'attractive'</li><li>'sincere'</li><li>'intelligence'</li><li>'funny'</li><li>'ambition'</li><li>'d_attractive'</li><li>'d_sincere'</li><li>'d_intelligence'</li><li>'d_funny'</li><li>'d_ambition'</li><li>'attractive_partner'</li><li>'sincere_partner'</li><li>'intelligence_partner'</li><li>'funny_partner'</li><li>'ambition_partner'</li><li>'shared_interests_partner'</li><li>'d_attractive_partner'</li><li>'d_sincere_partner'</li><li>'d_intelligence_partner'</li><li>'d_funny_partner'</li><li>'d_ambition_partner'</li><li>'d_shared_interests_partner'</li><li>'sports'</li><li>'tvsports'</li><li>'exercise'</li><li>'dining'</li><li>'museums'</li><li>'art'</li><li>'hiking'</li><li>'gaming'</li><li>'clubbing'</li><li>'reading'</li><li>'tv'</li><li>'theater'</li><li>'movies'</li><li>'concerts'</li><li>'music'</li><li>'shopping'</li><li>'yoga'</li><li>'d_sports'</li><li>'d_tvsports'</li><li>'d_exercise'</li><li>'d_dining'</li><li>'d_museums'</li><li>'d_art'</li><li>'d_hiking'</li><li>'d_gaming'</li><li>'d_clubbing'</li><li>'d_reading'</li><li>'d_tv'</li><li>'d_theater'</li><li>'d_movies'</li><li>'d_concerts'</li><li>'d_music'</li><li>'d_shopping'</li><li>'d_yoga'</li><li>'interests_correlate'</li><li>'d_interests_correlate'</li><li>'expected_happy_with_sd_people'</li><li>'expected_num_interested_in_me'</li><li>'expected_num_matches'</li><li>'d_expected_happy_with_sd_people'</li><li>'d_expected_num_interested_in_me'</li><li>'d_expected_num_matches'</li><li>'like'</li><li>'guess_prob_liked'</li><li>'d_like'</li><li>'d_guess_prob_liked'</li><li>'met'</li><li>'decision'</li><li>'decision_o'</li><li>'match'</li></ol>\n"
      ],
      "text/latex": [
       "\\begin{enumerate*}\n",
       "\\item 'has\\_null'\n",
       "\\item 'wave'\n",
       "\\item 'gender'\n",
       "\\item 'age'\n",
       "\\item 'age\\_o'\n",
       "\\item 'd\\_age'\n",
       "\\item 'd\\_d\\_age'\n",
       "\\item 'race'\n",
       "\\item 'race\\_o'\n",
       "\\item 'samerace'\n",
       "\\item 'importance\\_same\\_race'\n",
       "\\item 'importance\\_same\\_religion'\n",
       "\\item 'd\\_importance\\_same\\_race'\n",
       "\\item 'd\\_importance\\_same\\_religion'\n",
       "\\item 'field'\n",
       "\\item 'pref\\_o\\_attractive'\n",
       "\\item 'pref\\_o\\_sincere'\n",
       "\\item 'pref\\_o\\_intelligence'\n",
       "\\item 'pref\\_o\\_funny'\n",
       "\\item 'pref\\_o\\_ambitious'\n",
       "\\item 'pref\\_o\\_shared\\_interests'\n",
       "\\item 'd\\_pref\\_o\\_attractive'\n",
       "\\item 'd\\_pref\\_o\\_sincere'\n",
       "\\item 'd\\_pref\\_o\\_intelligence'\n",
       "\\item 'd\\_pref\\_o\\_funny'\n",
       "\\item 'd\\_pref\\_o\\_ambitious'\n",
       "\\item 'd\\_pref\\_o\\_shared\\_interests'\n",
       "\\item 'attractive\\_o'\n",
       "\\item 'sinsere\\_o'\n",
       "\\item 'intelligence\\_o'\n",
       "\\item 'funny\\_o'\n",
       "\\item 'ambitous\\_o'\n",
       "\\item 'shared\\_interests\\_o'\n",
       "\\item 'd\\_attractive\\_o'\n",
       "\\item 'd\\_sinsere\\_o'\n",
       "\\item 'd\\_intelligence\\_o'\n",
       "\\item 'd\\_funny\\_o'\n",
       "\\item 'd\\_ambitous\\_o'\n",
       "\\item 'd\\_shared\\_interests\\_o'\n",
       "\\item 'attractive\\_important'\n",
       "\\item 'sincere\\_important'\n",
       "\\item 'intellicence\\_important'\n",
       "\\item 'funny\\_important'\n",
       "\\item 'ambtition\\_important'\n",
       "\\item 'shared\\_interests\\_important'\n",
       "\\item 'd\\_attractive\\_important'\n",
       "\\item 'd\\_sincere\\_important'\n",
       "\\item 'd\\_intellicence\\_important'\n",
       "\\item 'd\\_funny\\_important'\n",
       "\\item 'd\\_ambtition\\_important'\n",
       "\\item 'd\\_shared\\_interests\\_important'\n",
       "\\item 'attractive'\n",
       "\\item 'sincere'\n",
       "\\item 'intelligence'\n",
       "\\item 'funny'\n",
       "\\item 'ambition'\n",
       "\\item 'd\\_attractive'\n",
       "\\item 'd\\_sincere'\n",
       "\\item 'd\\_intelligence'\n",
       "\\item 'd\\_funny'\n",
       "\\item 'd\\_ambition'\n",
       "\\item 'attractive\\_partner'\n",
       "\\item 'sincere\\_partner'\n",
       "\\item 'intelligence\\_partner'\n",
       "\\item 'funny\\_partner'\n",
       "\\item 'ambition\\_partner'\n",
       "\\item 'shared\\_interests\\_partner'\n",
       "\\item 'd\\_attractive\\_partner'\n",
       "\\item 'd\\_sincere\\_partner'\n",
       "\\item 'd\\_intelligence\\_partner'\n",
       "\\item 'd\\_funny\\_partner'\n",
       "\\item 'd\\_ambition\\_partner'\n",
       "\\item 'd\\_shared\\_interests\\_partner'\n",
       "\\item 'sports'\n",
       "\\item 'tvsports'\n",
       "\\item 'exercise'\n",
       "\\item 'dining'\n",
       "\\item 'museums'\n",
       "\\item 'art'\n",
       "\\item 'hiking'\n",
       "\\item 'gaming'\n",
       "\\item 'clubbing'\n",
       "\\item 'reading'\n",
       "\\item 'tv'\n",
       "\\item 'theater'\n",
       "\\item 'movies'\n",
       "\\item 'concerts'\n",
       "\\item 'music'\n",
       "\\item 'shopping'\n",
       "\\item 'yoga'\n",
       "\\item 'd\\_sports'\n",
       "\\item 'd\\_tvsports'\n",
       "\\item 'd\\_exercise'\n",
       "\\item 'd\\_dining'\n",
       "\\item 'd\\_museums'\n",
       "\\item 'd\\_art'\n",
       "\\item 'd\\_hiking'\n",
       "\\item 'd\\_gaming'\n",
       "\\item 'd\\_clubbing'\n",
       "\\item 'd\\_reading'\n",
       "\\item 'd\\_tv'\n",
       "\\item 'd\\_theater'\n",
       "\\item 'd\\_movies'\n",
       "\\item 'd\\_concerts'\n",
       "\\item 'd\\_music'\n",
       "\\item 'd\\_shopping'\n",
       "\\item 'd\\_yoga'\n",
       "\\item 'interests\\_correlate'\n",
       "\\item 'd\\_interests\\_correlate'\n",
       "\\item 'expected\\_happy\\_with\\_sd\\_people'\n",
       "\\item 'expected\\_num\\_interested\\_in\\_me'\n",
       "\\item 'expected\\_num\\_matches'\n",
       "\\item 'd\\_expected\\_happy\\_with\\_sd\\_people'\n",
       "\\item 'd\\_expected\\_num\\_interested\\_in\\_me'\n",
       "\\item 'd\\_expected\\_num\\_matches'\n",
       "\\item 'like'\n",
       "\\item 'guess\\_prob\\_liked'\n",
       "\\item 'd\\_like'\n",
       "\\item 'd\\_guess\\_prob\\_liked'\n",
       "\\item 'met'\n",
       "\\item 'decision'\n",
       "\\item 'decision\\_o'\n",
       "\\item 'match'\n",
       "\\end{enumerate*}\n"
      ],
      "text/markdown": [
       "1. 'has_null'\n",
       "2. 'wave'\n",
       "3. 'gender'\n",
       "4. 'age'\n",
       "5. 'age_o'\n",
       "6. 'd_age'\n",
       "7. 'd_d_age'\n",
       "8. 'race'\n",
       "9. 'race_o'\n",
       "10. 'samerace'\n",
       "11. 'importance_same_race'\n",
       "12. 'importance_same_religion'\n",
       "13. 'd_importance_same_race'\n",
       "14. 'd_importance_same_religion'\n",
       "15. 'field'\n",
       "16. 'pref_o_attractive'\n",
       "17. 'pref_o_sincere'\n",
       "18. 'pref_o_intelligence'\n",
       "19. 'pref_o_funny'\n",
       "20. 'pref_o_ambitious'\n",
       "21. 'pref_o_shared_interests'\n",
       "22. 'd_pref_o_attractive'\n",
       "23. 'd_pref_o_sincere'\n",
       "24. 'd_pref_o_intelligence'\n",
       "25. 'd_pref_o_funny'\n",
       "26. 'd_pref_o_ambitious'\n",
       "27. 'd_pref_o_shared_interests'\n",
       "28. 'attractive_o'\n",
       "29. 'sinsere_o'\n",
       "30. 'intelligence_o'\n",
       "31. 'funny_o'\n",
       "32. 'ambitous_o'\n",
       "33. 'shared_interests_o'\n",
       "34. 'd_attractive_o'\n",
       "35. 'd_sinsere_o'\n",
       "36. 'd_intelligence_o'\n",
       "37. 'd_funny_o'\n",
       "38. 'd_ambitous_o'\n",
       "39. 'd_shared_interests_o'\n",
       "40. 'attractive_important'\n",
       "41. 'sincere_important'\n",
       "42. 'intellicence_important'\n",
       "43. 'funny_important'\n",
       "44. 'ambtition_important'\n",
       "45. 'shared_interests_important'\n",
       "46. 'd_attractive_important'\n",
       "47. 'd_sincere_important'\n",
       "48. 'd_intellicence_important'\n",
       "49. 'd_funny_important'\n",
       "50. 'd_ambtition_important'\n",
       "51. 'd_shared_interests_important'\n",
       "52. 'attractive'\n",
       "53. 'sincere'\n",
       "54. 'intelligence'\n",
       "55. 'funny'\n",
       "56. 'ambition'\n",
       "57. 'd_attractive'\n",
       "58. 'd_sincere'\n",
       "59. 'd_intelligence'\n",
       "60. 'd_funny'\n",
       "61. 'd_ambition'\n",
       "62. 'attractive_partner'\n",
       "63. 'sincere_partner'\n",
       "64. 'intelligence_partner'\n",
       "65. 'funny_partner'\n",
       "66. 'ambition_partner'\n",
       "67. 'shared_interests_partner'\n",
       "68. 'd_attractive_partner'\n",
       "69. 'd_sincere_partner'\n",
       "70. 'd_intelligence_partner'\n",
       "71. 'd_funny_partner'\n",
       "72. 'd_ambition_partner'\n",
       "73. 'd_shared_interests_partner'\n",
       "74. 'sports'\n",
       "75. 'tvsports'\n",
       "76. 'exercise'\n",
       "77. 'dining'\n",
       "78. 'museums'\n",
       "79. 'art'\n",
       "80. 'hiking'\n",
       "81. 'gaming'\n",
       "82. 'clubbing'\n",
       "83. 'reading'\n",
       "84. 'tv'\n",
       "85. 'theater'\n",
       "86. 'movies'\n",
       "87. 'concerts'\n",
       "88. 'music'\n",
       "89. 'shopping'\n",
       "90. 'yoga'\n",
       "91. 'd_sports'\n",
       "92. 'd_tvsports'\n",
       "93. 'd_exercise'\n",
       "94. 'd_dining'\n",
       "95. 'd_museums'\n",
       "96. 'd_art'\n",
       "97. 'd_hiking'\n",
       "98. 'd_gaming'\n",
       "99. 'd_clubbing'\n",
       "100. 'd_reading'\n",
       "101. 'd_tv'\n",
       "102. 'd_theater'\n",
       "103. 'd_movies'\n",
       "104. 'd_concerts'\n",
       "105. 'd_music'\n",
       "106. 'd_shopping'\n",
       "107. 'd_yoga'\n",
       "108. 'interests_correlate'\n",
       "109. 'd_interests_correlate'\n",
       "110. 'expected_happy_with_sd_people'\n",
       "111. 'expected_num_interested_in_me'\n",
       "112. 'expected_num_matches'\n",
       "113. 'd_expected_happy_with_sd_people'\n",
       "114. 'd_expected_num_interested_in_me'\n",
       "115. 'd_expected_num_matches'\n",
       "116. 'like'\n",
       "117. 'guess_prob_liked'\n",
       "118. 'd_like'\n",
       "119. 'd_guess_prob_liked'\n",
       "120. 'met'\n",
       "121. 'decision'\n",
       "122. 'decision_o'\n",
       "123. 'match'\n",
       "\n",
       "\n"
      ],
      "text/plain": [
       "  [1] \"has_null\"                        \"wave\"                           \n",
       "  [3] \"gender\"                          \"age\"                            \n",
       "  [5] \"age_o\"                           \"d_age\"                          \n",
       "  [7] \"d_d_age\"                         \"race\"                           \n",
       "  [9] \"race_o\"                          \"samerace\"                       \n",
       " [11] \"importance_same_race\"            \"importance_same_religion\"       \n",
       " [13] \"d_importance_same_race\"          \"d_importance_same_religion\"     \n",
       " [15] \"field\"                           \"pref_o_attractive\"              \n",
       " [17] \"pref_o_sincere\"                  \"pref_o_intelligence\"            \n",
       " [19] \"pref_o_funny\"                    \"pref_o_ambitious\"               \n",
       " [21] \"pref_o_shared_interests\"         \"d_pref_o_attractive\"            \n",
       " [23] \"d_pref_o_sincere\"                \"d_pref_o_intelligence\"          \n",
       " [25] \"d_pref_o_funny\"                  \"d_pref_o_ambitious\"             \n",
       " [27] \"d_pref_o_shared_interests\"       \"attractive_o\"                   \n",
       " [29] \"sinsere_o\"                       \"intelligence_o\"                 \n",
       " [31] \"funny_o\"                         \"ambitous_o\"                     \n",
       " [33] \"shared_interests_o\"              \"d_attractive_o\"                 \n",
       " [35] \"d_sinsere_o\"                     \"d_intelligence_o\"               \n",
       " [37] \"d_funny_o\"                       \"d_ambitous_o\"                   \n",
       " [39] \"d_shared_interests_o\"            \"attractive_important\"           \n",
       " [41] \"sincere_important\"               \"intellicence_important\"         \n",
       " [43] \"funny_important\"                 \"ambtition_important\"            \n",
       " [45] \"shared_interests_important\"      \"d_attractive_important\"         \n",
       " [47] \"d_sincere_important\"             \"d_intellicence_important\"       \n",
       " [49] \"d_funny_important\"               \"d_ambtition_important\"          \n",
       " [51] \"d_shared_interests_important\"    \"attractive\"                     \n",
       " [53] \"sincere\"                         \"intelligence\"                   \n",
       " [55] \"funny\"                           \"ambition\"                       \n",
       " [57] \"d_attractive\"                    \"d_sincere\"                      \n",
       " [59] \"d_intelligence\"                  \"d_funny\"                        \n",
       " [61] \"d_ambition\"                      \"attractive_partner\"             \n",
       " [63] \"sincere_partner\"                 \"intelligence_partner\"           \n",
       " [65] \"funny_partner\"                   \"ambition_partner\"               \n",
       " [67] \"shared_interests_partner\"        \"d_attractive_partner\"           \n",
       " [69] \"d_sincere_partner\"               \"d_intelligence_partner\"         \n",
       " [71] \"d_funny_partner\"                 \"d_ambition_partner\"             \n",
       " [73] \"d_shared_interests_partner\"      \"sports\"                         \n",
       " [75] \"tvsports\"                        \"exercise\"                       \n",
       " [77] \"dining\"                          \"museums\"                        \n",
       " [79] \"art\"                             \"hiking\"                         \n",
       " [81] \"gaming\"                          \"clubbing\"                       \n",
       " [83] \"reading\"                         \"tv\"                             \n",
       " [85] \"theater\"                         \"movies\"                         \n",
       " [87] \"concerts\"                        \"music\"                          \n",
       " [89] \"shopping\"                        \"yoga\"                           \n",
       " [91] \"d_sports\"                        \"d_tvsports\"                     \n",
       " [93] \"d_exercise\"                      \"d_dining\"                       \n",
       " [95] \"d_museums\"                       \"d_art\"                          \n",
       " [97] \"d_hiking\"                        \"d_gaming\"                       \n",
       " [99] \"d_clubbing\"                      \"d_reading\"                      \n",
       "[101] \"d_tv\"                            \"d_theater\"                      \n",
       "[103] \"d_movies\"                        \"d_concerts\"                     \n",
       "[105] \"d_music\"                         \"d_shopping\"                     \n",
       "[107] \"d_yoga\"                          \"interests_correlate\"            \n",
       "[109] \"d_interests_correlate\"           \"expected_happy_with_sd_people\"  \n",
       "[111] \"expected_num_interested_in_me\"   \"expected_num_matches\"           \n",
       "[113] \"d_expected_happy_with_sd_people\" \"d_expected_num_interested_in_me\"\n",
       "[115] \"d_expected_num_matches\"          \"like\"                           \n",
       "[117] \"guess_prob_liked\"                \"d_like\"                         \n",
       "[119] \"d_guess_prob_liked\"              \"met\"                            \n",
       "[121] \"decision\"                        \"decision_o\"                     \n",
       "[123] \"match\"                          "
      ]
     },
     "metadata": {},
     "output_type": "display_data"
    }
   ],
   "source": [
    "names(originalData)"
   ]
  },
  {
   "cell_type": "code",
   "execution_count": 28,
   "id": "057519ad",
   "metadata": {
    "vscode": {
     "languageId": "r"
    }
   },
   "outputs": [],
   "source": [
    "my_variable_list <- c(\n",
    "  \"gender\",\n",
    "  \"d_age\",\n",
    "  \"race\",\n",
    "  \"samerace\",\n",
    "  \"race_o\",\n",
    "  \"attractive_o\",\n",
    "  \"sinsere_o\",\n",
    "  \"intelligence_o\",\n",
    "  \"funny_o\",\n",
    "  \"ambitous_o\",\n",
    "  \"shared_interests_o\",\n",
    "  \"attractive\",\n",
    "  \"sincere\",\n",
    "  \"intelligence\",\n",
    "  \"funny\",\n",
    "  \"ambition\",\n",
    "  \"sports\",\n",
    "  \"tvsports\",\n",
    "  \"exercise\",\n",
    "  \"dining\",\n",
    "  \"museums\",\n",
    "  \"art\",\n",
    "  \"hiking\",\n",
    "  \"gaming\",\n",
    "  \"clubbing\",\n",
    "  \"reading\",\n",
    "  \"tv\",\n",
    "  \"theater\",\n",
    "  \"movies\",\n",
    "  \"concerts\",\n",
    "  \"music\",\n",
    "  \"shopping\",\n",
    "  \"yoga\",\n",
    "  \"decision_o\"\n",
    ")"
   ]
  },
  {
   "cell_type": "markdown",
   "id": "8507ec26",
   "metadata": {},
   "source": [
    "Removing data coloumns for the partner"
   ]
  },
  {
   "cell_type": "code",
   "execution_count": 29,
   "id": "8c3c8267",
   "metadata": {
    "vscode": {
     "languageId": "r"
    }
   },
   "outputs": [
    {
     "data": {
      "text/html": [
       "<style>\n",
       ".list-inline {list-style: none; margin:0; padding: 0}\n",
       ".list-inline>li {display: inline-block}\n",
       ".list-inline>li:not(:last-child)::after {content: \"\\00b7\"; padding: 0 .5ex}\n",
       "</style>\n",
       "<ol class=list-inline><li>'gender'</li><li>'d_age'</li><li>'race'</li><li>'samerace'</li><li>'race_o'</li><li>'attractive_o'</li><li>'sinsere_o'</li><li>'intelligence_o'</li><li>'funny_o'</li><li>'ambitous_o'</li><li>'shared_interests_o'</li><li>'attractive'</li><li>'sincere'</li><li>'intelligence'</li><li>'funny'</li><li>'ambition'</li><li>'sports'</li><li>'tvsports'</li><li>'exercise'</li><li>'dining'</li><li>'museums'</li><li>'art'</li><li>'hiking'</li><li>'gaming'</li><li>'clubbing'</li><li>'reading'</li><li>'tv'</li><li>'theater'</li><li>'movies'</li><li>'concerts'</li><li>'music'</li><li>'shopping'</li><li>'yoga'</li><li>'decision_o'</li></ol>\n"
      ],
      "text/latex": [
       "\\begin{enumerate*}\n",
       "\\item 'gender'\n",
       "\\item 'd\\_age'\n",
       "\\item 'race'\n",
       "\\item 'samerace'\n",
       "\\item 'race\\_o'\n",
       "\\item 'attractive\\_o'\n",
       "\\item 'sinsere\\_o'\n",
       "\\item 'intelligence\\_o'\n",
       "\\item 'funny\\_o'\n",
       "\\item 'ambitous\\_o'\n",
       "\\item 'shared\\_interests\\_o'\n",
       "\\item 'attractive'\n",
       "\\item 'sincere'\n",
       "\\item 'intelligence'\n",
       "\\item 'funny'\n",
       "\\item 'ambition'\n",
       "\\item 'sports'\n",
       "\\item 'tvsports'\n",
       "\\item 'exercise'\n",
       "\\item 'dining'\n",
       "\\item 'museums'\n",
       "\\item 'art'\n",
       "\\item 'hiking'\n",
       "\\item 'gaming'\n",
       "\\item 'clubbing'\n",
       "\\item 'reading'\n",
       "\\item 'tv'\n",
       "\\item 'theater'\n",
       "\\item 'movies'\n",
       "\\item 'concerts'\n",
       "\\item 'music'\n",
       "\\item 'shopping'\n",
       "\\item 'yoga'\n",
       "\\item 'decision\\_o'\n",
       "\\end{enumerate*}\n"
      ],
      "text/markdown": [
       "1. 'gender'\n",
       "2. 'd_age'\n",
       "3. 'race'\n",
       "4. 'samerace'\n",
       "5. 'race_o'\n",
       "6. 'attractive_o'\n",
       "7. 'sinsere_o'\n",
       "8. 'intelligence_o'\n",
       "9. 'funny_o'\n",
       "10. 'ambitous_o'\n",
       "11. 'shared_interests_o'\n",
       "12. 'attractive'\n",
       "13. 'sincere'\n",
       "14. 'intelligence'\n",
       "15. 'funny'\n",
       "16. 'ambition'\n",
       "17. 'sports'\n",
       "18. 'tvsports'\n",
       "19. 'exercise'\n",
       "20. 'dining'\n",
       "21. 'museums'\n",
       "22. 'art'\n",
       "23. 'hiking'\n",
       "24. 'gaming'\n",
       "25. 'clubbing'\n",
       "26. 'reading'\n",
       "27. 'tv'\n",
       "28. 'theater'\n",
       "29. 'movies'\n",
       "30. 'concerts'\n",
       "31. 'music'\n",
       "32. 'shopping'\n",
       "33. 'yoga'\n",
       "34. 'decision_o'\n",
       "\n",
       "\n"
      ],
      "text/plain": [
       " [1] \"gender\"             \"d_age\"              \"race\"              \n",
       " [4] \"samerace\"           \"race_o\"             \"attractive_o\"      \n",
       " [7] \"sinsere_o\"          \"intelligence_o\"     \"funny_o\"           \n",
       "[10] \"ambitous_o\"         \"shared_interests_o\" \"attractive\"        \n",
       "[13] \"sincere\"            \"intelligence\"       \"funny\"             \n",
       "[16] \"ambition\"           \"sports\"             \"tvsports\"          \n",
       "[19] \"exercise\"           \"dining\"             \"museums\"           \n",
       "[22] \"art\"                \"hiking\"             \"gaming\"            \n",
       "[25] \"clubbing\"           \"reading\"            \"tv\"                \n",
       "[28] \"theater\"            \"movies\"             \"concerts\"          \n",
       "[31] \"music\"              \"shopping\"           \"yoga\"              \n",
       "[34] \"decision_o\"        "
      ]
     },
     "metadata": {},
     "output_type": "display_data"
    }
   ],
   "source": [
    "# Remove columns that start with 'o_', contain '_o_', or end with '_o'\n",
    "pattern <- \"^(o_)|(_o_)|(_o$)\"\n",
    "originalData_Clean <- originalData |> select(my_variable_list)\n",
    "colnames(originalData_Clean)"
   ]
  },
  {
   "cell_type": "markdown",
   "id": "844509f1",
   "metadata": {},
   "source": [
    "Check null values"
   ]
  },
  {
   "cell_type": "code",
   "execution_count": 30,
   "id": "2bd2dff8",
   "metadata": {
    "vscode": {
     "languageId": "r"
    }
   },
   "outputs": [
    {
     "name": "stdout",
     "output_type": "stream",
     "text": [
      "              Feature NullCount\n",
      "11 shared_interests_o      1076\n",
      "10         ambitous_o       722\n",
      "9             funny_o       360\n",
      "8      intelligence_o       306\n",
      "7           sinsere_o       287\n",
      "6        attractive_o       212\n",
      "12         attractive       105\n",
      "13            sincere       105\n",
      "14       intelligence       105\n",
      "15              funny       105\n",
      "16           ambition       105\n",
      "17             sports        79\n",
      "18           tvsports        79\n",
      "19           exercise        79\n",
      "20             dining        79\n",
      "21            museums        79\n",
      "22                art        79\n",
      "23             hiking        79\n",
      "24             gaming        79\n",
      "25           clubbing        79\n",
      "26            reading        79\n",
      "27                 tv        79\n",
      "28            theater        79\n",
      "29             movies        79\n",
      "30           concerts        79\n",
      "31              music        79\n",
      "32           shopping        79\n",
      "33               yoga        79\n"
     ]
    }
   ],
   "source": [
    "null_counts <- colSums(is.na(originalData_Clean))\n",
    "#null_counts[null_counts > 0]  # Show only columns with at least one NA\n",
    "\n",
    "# Show null counts as a sorted table\n",
    "null_counts <- colSums(is.na(originalData_Clean))\n",
    "null_table <- data.frame(\n",
    "  Feature = names(null_counts),\n",
    "  NullCount = as.integer(null_counts)\n",
    ")\n",
    "null_table <- null_table[null_table$NullCount > 0, ]\n",
    "null_table <- null_table[order(-null_table$NullCount), ]\n",
    "print(null_table)"
   ]
  },
  {
   "cell_type": "markdown",
   "id": "b1c8c424",
   "metadata": {},
   "source": [
    "Dropping the Null columns and rows\n",
    "\n",
    "Drop specific columns since they have a high number of nulls and are not needed for the model. Mainly the columns expected_num_interested_in_me, expected_num_matches, shared_interests_partner. \n",
    "\n",
    "Drop rows that contain null values."
   ]
  },
  {
   "cell_type": "code",
   "execution_count": 31,
   "id": "e4b06a0f",
   "metadata": {
    "vscode": {
     "languageId": "r"
    }
   },
   "outputs": [
    {
     "name": "stdout",
     "output_type": "stream",
     "text": [
      "[1] Feature   NullCount\n",
      "<0 rows> (or 0-length row.names)\n"
     ]
    }
   ],
   "source": [
    "# Drop specific columns\n",
    "cols_to_drop <- c(\"expected_num_interested_in_me\", \"expected_num_matches\", \"shared_interests_partner\", \"has_null\", \"wave\",\"expected_happy_with_sd_people\")\n",
    "originalData_Clean <- originalData_Clean[ , !(names(originalData_Clean) %in% cols_to_drop)]\n",
    "\n",
    "# Drop rows that contain null values\n",
    "originalData_Clean <- na.omit(originalData_Clean)\n",
    "\n",
    "# Show null counts as a sorted table after dropping rows with nulls\n",
    "null_counts <- colSums(is.na(originalData_Clean))\n",
    "null_table <- data.frame(\n",
    "  Feature = names(null_counts),\n",
    "  NullCount = as.integer(null_counts)\n",
    ")\n",
    "null_table <- null_table[null_table$NullCount > 0, ]\n",
    "null_table <- null_table[order(-null_table$NullCount), ]\n",
    "print(null_table)"
   ]
  },
  {
   "cell_type": "markdown",
   "id": "624a74c1",
   "metadata": {},
   "source": [
    "Scaling Issues\n",
    "\n",
    "Amount of columns out of range"
   ]
  },
  {
   "cell_type": "code",
   "execution_count": 32,
   "id": "3f1192aa",
   "metadata": {
    "vscode": {
     "languageId": "r"
    }
   },
   "outputs": [
    {
     "name": "stdout",
     "output_type": "stream",
     "text": [
      "   Feature CountOutOfRange\n",
      "19  gaming              66\n",
      "21 reading              46\n",
      "4  funny_o               1\n"
     ]
    }
   ],
   "source": [
    "#Table of how many values are out of range\n",
    "# List of columns to check for out-of-range values\n",
    "cols_to_check <- c(\n",
    "  \"attractive_o\",\n",
    "  \"sinsere_o\",\n",
    "  \"intelligence_o\",\n",
    "  \"funny_o\",\n",
    "  \"ambitous_o\",\n",
    "  \"shared_interests_o\",\n",
    "  \"attractive\",\n",
    "  \"sincere\",\n",
    "  \"intelligence\",\n",
    "  \"funny\",\n",
    "  \"ambition\",\n",
    "  \"sports\",\n",
    "  \"tvsports\",\n",
    "  \"exercise\",\n",
    "  \"dining\",\n",
    "  \"museums\",\n",
    "  \"art\",\n",
    "  \"hiking\",\n",
    "  \"gaming\",\n",
    "  \"clubbing\",\n",
    "  \"reading\",\n",
    "  \"tv\",\n",
    "  \"theater\",\n",
    "  \"movies\",\n",
    "  \"concerts\",\n",
    "  \"music\",\n",
    "  \"shopping\",\n",
    "  \"yoga\"\n",
    ")\n",
    "\n",
    "# Check which of these columns have values above 10 or below 1, and how many\n",
    "out_of_range_counts <- sapply(\n",
    "  originalData_Clean[ , cols_to_check, drop = FALSE],\n",
    "  function(col) sum(col > 10 | col < 0, na.rm = TRUE)\n",
    ")\n",
    "out_of_range_table <- data.frame(\n",
    "  Feature = names(out_of_range_counts),\n",
    "  CountOutOfRange = as.integer(out_of_range_counts)\n",
    ")\n",
    "out_of_range_table <- out_of_range_table[out_of_range_table$CountOutOfRange > 0, ]\n",
    "out_of_range_table <- out_of_range_table[order(-out_of_range_table$CountOutOfRange), ]\n",
    "print(out_of_range_table)"
   ]
  },
  {
   "cell_type": "markdown",
   "id": "6153fa8b",
   "metadata": {},
   "source": [
    "with min 0"
   ]
  },
  {
   "cell_type": "code",
   "execution_count": 33,
   "id": "a49ed27d",
   "metadata": {
    "vscode": {
     "languageId": "r"
    }
   },
   "outputs": [
    {
     "name": "stdout",
     "output_type": "stream",
     "text": [
      "   Feature CountOutOfRange\n",
      "19  gaming              66\n",
      "21 reading              46\n",
      "4  funny_o               1\n"
     ]
    }
   ],
   "source": [
    "# Check which of these columns have values above 10 or below 1, and how many\n",
    "out_of_range_counts <- sapply(\n",
    "  originalData_Clean[ , cols_to_check, drop = FALSE],\n",
    "  function(col) sum(col > 10 | col < 0, na.rm = TRUE)\n",
    ")\n",
    "out_of_range_table <- data.frame(\n",
    "  Feature = names(out_of_range_counts),\n",
    "  CountOutOfRange = as.integer(out_of_range_counts)\n",
    ")\n",
    "out_of_range_table <- out_of_range_table[out_of_range_table$CountOutOfRange > 0, ]\n",
    "out_of_range_table <- out_of_range_table[order(-out_of_range_table$CountOutOfRange), ]\n",
    "print(out_of_range_table)"
   ]
  },
  {
   "cell_type": "markdown",
   "id": "ebeb6e07",
   "metadata": {},
   "source": [
    "Method 1: keep values as they are"
   ]
  },
  {
   "cell_type": "code",
   "execution_count": 35,
   "id": "ea6a4821",
   "metadata": {
    "vscode": {
     "languageId": "r"
    }
   },
   "outputs": [],
   "source": [
    "write.csv(originalData_Clean, \"./cleanedData/data_clean.csv\", row.names = FALSE)\n"
   ]
  },
  {
   "cell_type": "markdown",
   "id": "4cb9c640",
   "metadata": {},
   "source": [
    "Method 2: Remove out of range values"
   ]
  },
  {
   "cell_type": "code",
   "execution_count": 36,
   "id": "8a4e80a4",
   "metadata": {
    "vscode": {
     "languageId": "r"
    }
   },
   "outputs": [
    {
     "name": "stdout",
     "output_type": "stream",
     "text": [
      "[1] Feature         CountOutOfRange\n",
      "<0 rows> (or 0-length row.names)\n",
      "[1] \"Rows remaining after removing out-of-range values: 6695\"\n"
     ]
    }
   ],
   "source": [
    "# Keep only rows where all specified columns are between 1 and 10 (inclusive)\n",
    "in_range <- apply(\n",
    "  originalData_Clean[ , cols_to_check, drop = FALSE],\n",
    "  1,\n",
    "  function(row) all(row >= 1 & row <= 10, na.rm = TRUE)\n",
    ")\n",
    "scale_removed <- originalData_Clean[in_range, ]\n",
    "\n",
    "out_of_range_counts <- sapply(\n",
    "  scale_removed[ , cols_to_check, drop = FALSE],\n",
    "  function(col) sum(col > 10 | col < 1, na.rm = TRUE)\n",
    ")\n",
    "out_of_range_table <- data.frame(\n",
    "  Feature = names(out_of_range_counts),\n",
    "  CountOutOfRange = as.integer(out_of_range_counts)\n",
    ")\n",
    "out_of_range_table <- out_of_range_table[out_of_range_table$CountOutOfRange > 0, ]\n",
    "out_of_range_table <- out_of_range_table[order(-out_of_range_table$CountOutOfRange), ]\n",
    "print(out_of_range_table)\n",
    "\n",
    "print(paste(\"Rows remaining after removing out-of-range values:\", nrow(scale_removed)))\n",
    "write.csv(scale_removed, \"./cleanedData/data_clean_scaling_removed.csv\", row.names = FALSE)"
   ]
  },
  {
   "cell_type": "markdown",
   "id": "fb0f2797",
   "metadata": {},
   "source": [
    "Method 3: Scale out of range values (Min and Maxing method)"
   ]
  },
  {
   "cell_type": "code",
   "execution_count": null,
   "id": "476f5574",
   "metadata": {
    "vscode": {
     "languageId": "r"
    }
   },
   "outputs": [
    {
     "ename": "ERROR",
     "evalue": "Error: object 'range_scaled' not found\n",
     "output_type": "error",
     "traceback": [
      "Error: object 'range_scaled' not found\nTraceback:\n",
      "1. .handleSimpleError(function (cnd) \n . {\n .     watcher$capture_plot_and_output()\n .     cnd <- sanitize_call(cnd)\n .     watcher$push(cnd)\n .     switch(on_error, continue = invokeRestart(\"eval_continue\"), \n .         stop = invokeRestart(\"eval_stop\"), error = NULL)\n . }, \"object 'range_scaled' not found\", base::quote(eval(expr, \n .     envir)))"
     ]
    }
   ],
   "source": [
    "\n",
    "#range_scaled[cols_to_check] <- lapply(range_scaled[cols_to_check], function(col) {\n",
    "#  col[col > 10] <- col[col > 10] / 10\n",
    "#  return(col)\n",
    "#})\n",
    "\n",
    "#print(paste(\"Rows remaining after removing out-of-range values:\", nrow(range_scaled)))\n",
    "#head(range_scaled[\"attractive_important\"], 15)\n",
    "\n",
    "#write.csv(range_scaled, \"../cleanedData/data_clean_scaled_minmax.csv\", row.names = FALSE)"
   ]
  }
 ],
 "metadata": {
  "kernelspec": {
   "display_name": "R",
   "language": "R",
   "name": "ir"
  },
  "language_info": {
   "codemirror_mode": "r",
   "file_extension": ".r",
   "mimetype": "text/x-r-source",
   "name": "R",
   "pygments_lexer": "r",
   "version": "4.5.1"
  }
 },
 "nbformat": 4,
 "nbformat_minor": 5
}
