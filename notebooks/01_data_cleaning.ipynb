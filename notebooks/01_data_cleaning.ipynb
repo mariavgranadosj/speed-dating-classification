{
 "cells": [
  {
   "cell_type": "markdown",
   "id": "59e8aa8d",
   "metadata": {},
   "source": [
    "Ingesting original data"
   ]
  },
  {
   "cell_type": "code",
   "execution_count": null,
   "id": "7a5f97d4",
   "metadata": {
    "vscode": {
     "languageId": "r"
    }
   },
   "outputs": [
    {
     "ename": "",
     "evalue": "",
     "output_type": "error",
     "traceback": [
      "\u001b[1;31mFailed to start the Kernel. \n",
      "\u001b[1;31mView Jupyter <a href='command:jupyter.viewOutput'>log</a> for further details."
     ]
    }
   ],
   "source": [
    "originalData <- read.csv(\"../speeddating_raw.csv\")"
   ]
  },
  {
   "cell_type": "markdown",
   "id": "8507ec26",
   "metadata": {},
   "source": [
    "Removing data coloumns for the partner"
   ]
  },
  {
   "cell_type": "code",
   "execution_count": null,
   "id": "8c3c8267",
   "metadata": {
    "vscode": {
     "languageId": "r"
    }
   },
   "outputs": [],
   "source": [
    "# Remove columns that start with 'o_', contain '_o_', or end with '_o'\n",
    "pattern <- \"^(o_)|(_o_)|(_o$)\"\n",
    "originalData_Clean <- originalData[ , !grepl(pattern, names(originalData))]\n",
    "originalData_Clean$decision <- originalData$decision_o # overwriting unwanted decision variable with target\n",
    "colnames(originalData_Clean)"
   ]
  },
  {
   "cell_type": "markdown",
   "id": "4e97483b",
   "metadata": {},
   "source": [
    "Remove range data"
   ]
  },
  {
   "cell_type": "code",
   "execution_count": null,
   "id": "6d07658b",
   "metadata": {
    "vscode": {
     "languageId": "r"
    }
   },
   "outputs": [],
   "source": [
    "# Remove columns that start with 'd_'\n",
    "originalData_Clean <- originalData_Clean[ , !grepl(\"^d_\", names(originalData_Clean))]\n",
    "colnames(originalData_Clean)\n",
    "#head(originalData_Clean)"
   ]
  },
  {
   "cell_type": "markdown",
   "id": "844509f1",
   "metadata": {},
   "source": [
    "Check null values"
   ]
  },
  {
   "cell_type": "code",
   "execution_count": null,
   "id": "2bd2dff8",
   "metadata": {
    "vscode": {
     "languageId": "r"
    }
   },
   "outputs": [],
   "source": [
    "null_counts <- colSums(is.na(originalData_Clean))\n",
    "#null_counts[null_counts > 0]  # Show only columns with at least one NA\n",
    "\n",
    "# Show null counts as a sorted table\n",
    "null_counts <- colSums(is.na(originalData_Clean))\n",
    "null_table <- data.frame(\n",
    "  Feature = names(null_counts),\n",
    "  NullCount = as.integer(null_counts)\n",
    ")\n",
    "null_table <- null_table[null_table$NullCount > 0, ]\n",
    "null_table <- null_table[order(-null_table$NullCount), ]\n",
    "print(null_table)"
   ]
  },
  {
   "cell_type": "markdown",
   "id": "b1c8c424",
   "metadata": {},
   "source": [
    "Dropping the Null columns and rows\n",
    "\n",
    "Drop specific columns since they have a high number of nulls and are not needed for the model. Mainly the columns expected_num_interested_in_me, expected_num_matches, shared_interests_partner. \n",
    "\n",
    "Drop rows that contain null values."
   ]
  },
  {
   "cell_type": "code",
   "execution_count": null,
   "id": "e4b06a0f",
   "metadata": {
    "vscode": {
     "languageId": "r"
    }
   },
   "outputs": [],
   "source": [
    "# Drop specific columns\n",
    "cols_to_drop <- c(\"expected_num_interested_in_me\", \"expected_num_matches\", \"shared_interests_partner\", \"has_null\", \"wave\",\"expected_happy_with_sd_people\",\"guess_prob_liked\") # expected happy, prob_liked not relevant to analysis\n",
    "originalData_Clean <- originalData_Clean[ , !(names(originalData_Clean) %in% cols_to_drop)]\n",
    "\n",
    "# Drop rows that contain null values\n",
    "originalData_Clean <- na.omit(originalData_Clean)\n",
    "\n",
    "# Show null counts as a sorted table after dropping rows with nulls\n",
    "null_counts <- colSums(is.na(originalData_Clean))\n",
    "null_table <- data.frame(\n",
    "  Feature = names(null_counts),\n",
    "  NullCount = as.integer(null_counts)\n",
    ")\n",
    "null_table <- null_table[null_table$NullCount > 0, ]\n",
    "null_table <- null_table[order(-null_table$NullCount), ]\n",
    "print(null_table)"
   ]
  },
  {
   "cell_type": "markdown",
   "id": "624a74c1",
   "metadata": {},
   "source": [
    "Scaling Issues\n",
    "\n",
    "Amount of columns out of range"
   ]
  },
  {
   "cell_type": "code",
   "execution_count": null,
   "id": "3f1192aa",
   "metadata": {
    "vscode": {
     "languageId": "r"
    }
   },
   "outputs": [],
   "source": [
    "#Table of how many values are out of range\n",
    "# List of columns to check for out-of-range values\n",
    "cols_to_check <- c(\n",
    "  \"like\", \"expected_happy_with_sd_people\",\n",
    "  \"attractive\", \"sincere\", \"intelligence\", \"funny\", \"ambition\",\n",
    "  \"attractive_partner\", \"sincere_partner\", \"intelligence_partner\", \"funny_partner\", \"ambition_partner\",\n",
    "  \"sports\", \"tvsports\", \"exercise\", \"dining\", \"museums\", \"art\", \"hiking\", \"gaming\", \"clubbing\", \"reading\", \"tv\", \"theater\", \"movies\", \"concerts\", \"music\", \"shopping\", \"yoga\"\n",
    ") #removing \"important_\" features due to range 0-100\n",
    "\n",
    "# Check which of these columns have values above 10 or below 1, and how many\n",
    "out_of_range_counts <- sapply(\n",
    "  originalData_Clean[ , cols_to_check, drop = FALSE],\n",
    "  function(col) sum(col > 10 | col < 0, na.rm = TRUE)\n",
    ")\n",
    "out_of_range_table <- data.frame(\n",
    "  Feature = names(out_of_range_counts),\n",
    "  CountOutOfRange = as.integer(out_of_range_counts)\n",
    ")\n",
    "out_of_range_table <- out_of_range_table[out_of_range_table$CountOutOfRange > 0, ]\n",
    "out_of_range_table <- out_of_range_table[order(-out_of_range_table$CountOutOfRange), ]\n",
    "print(out_of_range_table)"
   ]
  },
  {
   "cell_type": "code",
   "execution_count": null,
   "id": "3a313b1d",
   "metadata": {
    "vscode": {
     "languageId": "r"
    }
   },
   "outputs": [],
   "source": [
    "cols_to_check_importance <- c(\n",
    "  \"importance_same_race\", \"importance_same_religion\",\n",
    "  \"attractive_important\", \"sincere_important\", \"intellicence_important\", \"funny_important\", \"ambtition_important\", \"shared_interests_important\"\n",
    ")\n",
    "\n",
    "# Check which of these columns have values above 10 or below 1, and how many\n",
    "out_of_range_importance_counts <- sapply(\n",
    "  originalData_Clean[ , cols_to_check_importance, drop = FALSE],\n",
    "  function(col) sum(col > 100 | col < 0, na.rm = TRUE)\n",
    ")\n",
    "out_of_range_importance_table <- data.frame(\n",
    "  Feature = names(out_of_range_importance_counts),\n",
    "  CountOutOfRange = as.integer(out_of_range_importance_counts)\n",
    ")\n",
    "out_of_range_importance_table <- out_of_range_importance_table[out_of_range_importance_table$CountOutOfRange > 0, ]\n",
    "out_of_range_importance_table <- out_of_range_importance_table[order(-out_of_range_importance_table$CountOutOfRange), ]\n",
    "print(out_of_range_importance_table)"
   ]
  },
  {
   "cell_type": "markdown",
   "id": "ebeb6e07",
   "metadata": {},
   "source": [
    "Method 1: keep values as they are"
   ]
  },
  {
   "cell_type": "code",
   "execution_count": null,
   "id": "ea6a4821",
   "metadata": {
    "vscode": {
     "languageId": "r"
    }
   },
   "outputs": [],
   "source": [
    "write.csv(originalData_Clean, \"../cleanedData/data_clean.csv\", row.names = FALSE)\n"
   ]
  },
  {
   "cell_type": "markdown",
   "id": "4cb9c640",
   "metadata": {},
   "source": [
    "Method 2: Remove out of range values"
   ]
  },
  {
   "cell_type": "code",
   "execution_count": null,
   "id": "8a4e80a4",
   "metadata": {
    "vscode": {
     "languageId": "r"
    }
   },
   "outputs": [],
   "source": [
    "# Keep only rows where all specified columns are between 1 and 10 (inclusive)\n",
    "in_range <- apply(\n",
    "  originalData_Clean[ , cols_to_check, drop = FALSE],\n",
    "  1,\n",
    "  function(row) all(row >= 0 & row <= 10, na.rm = TRUE)\n",
    ")\n",
    "scale_removed <- originalData_Clean[in_range, ]\n",
    "\n",
    "out_of_range_counts <- sapply(\n",
    "  scale_removed[ , cols_to_check, drop = FALSE],\n",
    "  function(col) sum(col > 10 | col < 0, na.rm = TRUE)\n",
    ")\n",
    "out_of_range_table <- data.frame(\n",
    "  Feature = names(out_of_range_counts),\n",
    "  CountOutOfRange = as.integer(out_of_range_counts)\n",
    ")\n",
    "out_of_range_table <- out_of_range_table[out_of_range_table$CountOutOfRange > 0, ]\n",
    "out_of_range_table <- out_of_range_table[order(-out_of_range_table$CountOutOfRange), ]\n",
    "print(out_of_range_table)\n",
    "\n",
    "print(paste(\"Rows remaining after removing out-of-range values:\", nrow(scale_removed)))\n",
    "write.csv(scale_removed, \"../cleanedData/data_clean_scaling_removed.csv\", row.names = FALSE)"
   ]
  },
  {
   "cell_type": "markdown",
   "id": "fb0f2797",
   "metadata": {},
   "source": [
    "Method 3: Scale out of range values (Min and Maxing method)"
   ]
  },
  {
   "cell_type": "code",
   "execution_count": null,
   "id": "476f5574",
   "metadata": {
    "vscode": {
     "languageId": "r"
    }
   },
   "outputs": [],
   "source": [
    "# df_scale <- originalData_Clean[cols_to_check]\n",
    "# df_rest  <- originalData_Clean[setdiff(names(originalData_Clean), cols_to_check)]\n",
    "\n",
    "# # Function to rescale to [1,10]\n",
    "# rescale_1_10 <- function(x) {\n",
    "#   rng <- range(x, na.rm = TRUE)\n",
    "#   ( (x - rng[1]) / (rng[2] - rng[1]) ) * 9 + 1\n",
    "# }\n",
    "\n",
    "# # Apply to the selected columns\n",
    "# df_scaled <- as.data.frame(lapply(df_scale, rescale_1_10))\n",
    "\n",
    "# # Recombine with the rest of the dataset\n",
    "# range_scaled <- cbind(df_rest, df_scaled)\n",
    "\n",
    "# print(paste(\"Rows remaining after removing out-of-range values:\", nrow(range_scaled)))\n",
    "# head(range_scaled[\"attractive_important\"], 15)\n",
    "\n",
    "range_scaled[cols_to_check] <- lapply(range_scaled[cols_to_check], function(col) {\n",
    "  col[col > 10] <- col[col > 10] / 10\n",
    "  return(col)\n",
    "})\n",
    "\n",
    "print(paste(\"Rows remaining after removing out-of-range values:\", nrow(range_scaled)))\n",
    "head(range_scaled[\"attractive_important\"], 15)\n",
    "\n",
    "write.csv(range_scaled, \"../cleanedData/data_clean_scaled_minmax.csv\", row.names = FALSE)"
   ]
  }
 ],
 "metadata": {
  "kernelspec": {
   "display_name": "R",
   "language": "R",
   "name": "ir"
  },
  "language_info": {
   "codemirror_mode": "r",
   "file_extension": ".r",
   "mimetype": "text/x-r-source",
   "name": "R",
   "pygments_lexer": "r",
   "version": "3.6.1"
  }
 },
 "nbformat": 4,
 "nbformat_minor": 5
}
