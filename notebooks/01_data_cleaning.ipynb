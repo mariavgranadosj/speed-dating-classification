{
 "cells": [
  {
   "cell_type": "markdown",
   "id": "0760d492",
   "metadata": {},
   "source": [
    "# Set Up Environment"
   ]
  },
  {
   "cell_type": "code",
   "execution_count": null,
   "id": "b257cf6e",
   "metadata": {
    "vscode": {
     "languageId": "r"
    }
   },
   "outputs": [
    {
     "ename": "ERROR",
     "evalue": "Error in library(tidyverse): there is no package called 'tidyverse'\n",
     "output_type": "error",
     "traceback": [
      "Error in library(tidyverse): there is no package called 'tidyverse'\nTraceback:\n",
      "1. stop(packageNotFoundError(package, lib.loc, sys.call()))"
     ]
    }
   ],
   "source": [
    "library(tidyverse)\n"
   ]
  },
  {
   "cell_type": "markdown",
   "id": "59e8aa8d",
   "metadata": {},
   "source": [
    "# Ingesting original data"
   ]
  },
  {
   "cell_type": "code",
   "execution_count": null,
   "id": "7a5f97d4",
   "metadata": {
    "vscode": {
     "languageId": "r"
    }
   },
   "outputs": [],
   "source": [
    "originalData <- read.csv(\"../speeddating_raw.csv\")\n"
   ]
  },
  {
   "cell_type": "markdown",
   "id": "8507ec26",
   "metadata": {},
   "source": [
    "# Removing data coloumns for the partner"
   ]
  },
  {
   "cell_type": "code",
   "execution_count": null,
   "id": "8c3c8267",
   "metadata": {
    "vscode": {
     "languageId": "r"
    }
   },
   "outputs": [
    {
     "ename": "ERROR",
     "evalue": "Error in originalData %>% mutate(age_o - age): could not find function \"%>%\"\n",
     "output_type": "error",
     "traceback": [
      "Error in originalData %>% mutate(age_o - age): could not find function \"%>%\"\nTraceback:\n"
     ]
    }
   ],
   "source": [
    "# Remove columns that start with 'o_', contain '_o_', or end with '_o'\n",
    "pattern <- \"^(o_)|(_o_)|(_o$)\"\n",
    "originalData_Clean$age_diff <- originalData %>%\n",
    "    mutate(case_when(\n",
    "        is.na(age) || is.na(age_o) ~ NA,\n",
    "        age_o - age\n",
    "    )) # Age difference between partner (_o) vs subject\n",
    "\n",
    "originalData_Clean <- originalData[, !grepl(pattern, names(originalData))]\n",
    "originalData_Clean$decision <- originalData$decision_o # overwriting unwanted decision variable with target\n",
    "colnames(originalData_Clean)\n"
   ]
  },
  {
   "cell_type": "markdown",
   "id": "4e97483b",
   "metadata": {},
   "source": [
    "# Remove range data"
   ]
  },
  {
   "cell_type": "code",
   "execution_count": null,
   "id": "6d07658b",
   "metadata": {
    "vscode": {
     "languageId": "r"
    }
   },
   "outputs": [
    {
     "data": {
      "text/html": [
       "<ol class=list-inline>\n",
       "\t<li>'has_null'</li>\n",
       "\t<li>'wave'</li>\n",
       "\t<li>'gender'</li>\n",
       "\t<li>'age'</li>\n",
       "\t<li>'race'</li>\n",
       "\t<li>'samerace'</li>\n",
       "\t<li>'importance_same_race'</li>\n",
       "\t<li>'importance_same_religion'</li>\n",
       "\t<li>'field'</li>\n",
       "\t<li>'attractive_important'</li>\n",
       "\t<li>'sincere_important'</li>\n",
       "\t<li>'intellicence_important'</li>\n",
       "\t<li>'funny_important'</li>\n",
       "\t<li>'ambtition_important'</li>\n",
       "\t<li>'shared_interests_important'</li>\n",
       "\t<li>'attractive'</li>\n",
       "\t<li>'sincere'</li>\n",
       "\t<li>'intelligence'</li>\n",
       "\t<li>'funny'</li>\n",
       "\t<li>'ambition'</li>\n",
       "\t<li>'attractive_partner'</li>\n",
       "\t<li>'sincere_partner'</li>\n",
       "\t<li>'intelligence_partner'</li>\n",
       "\t<li>'funny_partner'</li>\n",
       "\t<li>'ambition_partner'</li>\n",
       "\t<li>'shared_interests_partner'</li>\n",
       "\t<li>'sports'</li>\n",
       "\t<li>'tvsports'</li>\n",
       "\t<li>'exercise'</li>\n",
       "\t<li>'dining'</li>\n",
       "\t<li>'museums'</li>\n",
       "\t<li>'art'</li>\n",
       "\t<li>'hiking'</li>\n",
       "\t<li>'gaming'</li>\n",
       "\t<li>'clubbing'</li>\n",
       "\t<li>'reading'</li>\n",
       "\t<li>'tv'</li>\n",
       "\t<li>'theater'</li>\n",
       "\t<li>'movies'</li>\n",
       "\t<li>'concerts'</li>\n",
       "\t<li>'music'</li>\n",
       "\t<li>'shopping'</li>\n",
       "\t<li>'yoga'</li>\n",
       "\t<li>'interests_correlate'</li>\n",
       "\t<li>'expected_happy_with_sd_people'</li>\n",
       "\t<li>'expected_num_interested_in_me'</li>\n",
       "\t<li>'expected_num_matches'</li>\n",
       "\t<li>'like'</li>\n",
       "\t<li>'guess_prob_liked'</li>\n",
       "\t<li>'met'</li>\n",
       "\t<li>'decision'</li>\n",
       "\t<li>'match'</li>\n",
       "</ol>\n"
      ],
      "text/latex": [
       "\\begin{enumerate*}\n",
       "\\item 'has\\_null'\n",
       "\\item 'wave'\n",
       "\\item 'gender'\n",
       "\\item 'age'\n",
       "\\item 'race'\n",
       "\\item 'samerace'\n",
       "\\item 'importance\\_same\\_race'\n",
       "\\item 'importance\\_same\\_religion'\n",
       "\\item 'field'\n",
       "\\item 'attractive\\_important'\n",
       "\\item 'sincere\\_important'\n",
       "\\item 'intellicence\\_important'\n",
       "\\item 'funny\\_important'\n",
       "\\item 'ambtition\\_important'\n",
       "\\item 'shared\\_interests\\_important'\n",
       "\\item 'attractive'\n",
       "\\item 'sincere'\n",
       "\\item 'intelligence'\n",
       "\\item 'funny'\n",
       "\\item 'ambition'\n",
       "\\item 'attractive\\_partner'\n",
       "\\item 'sincere\\_partner'\n",
       "\\item 'intelligence\\_partner'\n",
       "\\item 'funny\\_partner'\n",
       "\\item 'ambition\\_partner'\n",
       "\\item 'shared\\_interests\\_partner'\n",
       "\\item 'sports'\n",
       "\\item 'tvsports'\n",
       "\\item 'exercise'\n",
       "\\item 'dining'\n",
       "\\item 'museums'\n",
       "\\item 'art'\n",
       "\\item 'hiking'\n",
       "\\item 'gaming'\n",
       "\\item 'clubbing'\n",
       "\\item 'reading'\n",
       "\\item 'tv'\n",
       "\\item 'theater'\n",
       "\\item 'movies'\n",
       "\\item 'concerts'\n",
       "\\item 'music'\n",
       "\\item 'shopping'\n",
       "\\item 'yoga'\n",
       "\\item 'interests\\_correlate'\n",
       "\\item 'expected\\_happy\\_with\\_sd\\_people'\n",
       "\\item 'expected\\_num\\_interested\\_in\\_me'\n",
       "\\item 'expected\\_num\\_matches'\n",
       "\\item 'like'\n",
       "\\item 'guess\\_prob\\_liked'\n",
       "\\item 'met'\n",
       "\\item 'decision'\n",
       "\\item 'match'\n",
       "\\end{enumerate*}\n"
      ],
      "text/markdown": [
       "1. 'has_null'\n",
       "2. 'wave'\n",
       "3. 'gender'\n",
       "4. 'age'\n",
       "5. 'race'\n",
       "6. 'samerace'\n",
       "7. 'importance_same_race'\n",
       "8. 'importance_same_religion'\n",
       "9. 'field'\n",
       "10. 'attractive_important'\n",
       "11. 'sincere_important'\n",
       "12. 'intellicence_important'\n",
       "13. 'funny_important'\n",
       "14. 'ambtition_important'\n",
       "15. 'shared_interests_important'\n",
       "16. 'attractive'\n",
       "17. 'sincere'\n",
       "18. 'intelligence'\n",
       "19. 'funny'\n",
       "20. 'ambition'\n",
       "21. 'attractive_partner'\n",
       "22. 'sincere_partner'\n",
       "23. 'intelligence_partner'\n",
       "24. 'funny_partner'\n",
       "25. 'ambition_partner'\n",
       "26. 'shared_interests_partner'\n",
       "27. 'sports'\n",
       "28. 'tvsports'\n",
       "29. 'exercise'\n",
       "30. 'dining'\n",
       "31. 'museums'\n",
       "32. 'art'\n",
       "33. 'hiking'\n",
       "34. 'gaming'\n",
       "35. 'clubbing'\n",
       "36. 'reading'\n",
       "37. 'tv'\n",
       "38. 'theater'\n",
       "39. 'movies'\n",
       "40. 'concerts'\n",
       "41. 'music'\n",
       "42. 'shopping'\n",
       "43. 'yoga'\n",
       "44. 'interests_correlate'\n",
       "45. 'expected_happy_with_sd_people'\n",
       "46. 'expected_num_interested_in_me'\n",
       "47. 'expected_num_matches'\n",
       "48. 'like'\n",
       "49. 'guess_prob_liked'\n",
       "50. 'met'\n",
       "51. 'decision'\n",
       "52. 'match'\n",
       "\n",
       "\n"
      ],
      "text/plain": [
       " [1] \"has_null\"                      \"wave\"                         \n",
       " [3] \"gender\"                        \"age\"                          \n",
       " [5] \"race\"                          \"samerace\"                     \n",
       " [7] \"importance_same_race\"          \"importance_same_religion\"     \n",
       " [9] \"field\"                         \"attractive_important\"         \n",
       "[11] \"sincere_important\"             \"intellicence_important\"       \n",
       "[13] \"funny_important\"               \"ambtition_important\"          \n",
       "[15] \"shared_interests_important\"    \"attractive\"                   \n",
       "[17] \"sincere\"                       \"intelligence\"                 \n",
       "[19] \"funny\"                         \"ambition\"                     \n",
       "[21] \"attractive_partner\"            \"sincere_partner\"              \n",
       "[23] \"intelligence_partner\"          \"funny_partner\"                \n",
       "[25] \"ambition_partner\"              \"shared_interests_partner\"     \n",
       "[27] \"sports\"                        \"tvsports\"                     \n",
       "[29] \"exercise\"                      \"dining\"                       \n",
       "[31] \"museums\"                       \"art\"                          \n",
       "[33] \"hiking\"                        \"gaming\"                       \n",
       "[35] \"clubbing\"                      \"reading\"                      \n",
       "[37] \"tv\"                            \"theater\"                      \n",
       "[39] \"movies\"                        \"concerts\"                     \n",
       "[41] \"music\"                         \"shopping\"                     \n",
       "[43] \"yoga\"                          \"interests_correlate\"          \n",
       "[45] \"expected_happy_with_sd_people\" \"expected_num_interested_in_me\"\n",
       "[47] \"expected_num_matches\"          \"like\"                         \n",
       "[49] \"guess_prob_liked\"              \"met\"                          \n",
       "[51] \"decision\"                      \"match\"                        "
      ]
     },
     "metadata": {},
     "output_type": "display_data"
    }
   ],
   "source": [
    "# Remove columns that start with 'd_'\n",
    "originalData_Clean <- originalData_Clean[, !grepl(\"^d_\", names(originalData_Clean))]\n",
    "colnames(originalData_Clean)\n",
    "# head(originalData_Clean)\n"
   ]
  },
  {
   "cell_type": "markdown",
   "id": "844509f1",
   "metadata": {},
   "source": [
    "# Check null values"
   ]
  },
  {
   "cell_type": "code",
   "execution_count": null,
   "id": "2bd2dff8",
   "metadata": {
    "vscode": {
     "languageId": "r"
    }
   },
   "outputs": [
    {
     "name": "stdout",
     "output_type": "stream",
     "text": [
      "                         Feature NullCount\n",
      "46 expected_num_interested_in_me      6578\n",
      "47          expected_num_matches      1173\n",
      "26      shared_interests_partner      1067\n",
      "25              ambition_partner       712\n",
      "50                           met       375\n",
      "24                 funny_partner       350\n",
      "49              guess_prob_liked       309\n",
      "23          intelligence_partner       296\n",
      "22               sincere_partner       277\n",
      "48                          like       240\n",
      "21            attractive_partner       202\n",
      "44           interests_correlate       158\n",
      "15    shared_interests_important       121\n",
      "16                    attractive       105\n",
      "17                       sincere       105\n",
      "18                  intelligence       105\n",
      "19                         funny       105\n",
      "20                      ambition       105\n",
      "45 expected_happy_with_sd_people       101\n",
      "14           ambtition_important        99\n",
      "4                            age        95\n",
      "13               funny_important        89\n",
      "7           importance_same_race        79\n",
      "8       importance_same_religion        79\n",
      "10          attractive_important        79\n",
      "11             sincere_important        79\n",
      "12        intellicence_important        79\n",
      "27                        sports        79\n",
      "28                      tvsports        79\n",
      "29                      exercise        79\n",
      "30                        dining        79\n",
      "31                       museums        79\n",
      "32                           art        79\n",
      "33                        hiking        79\n",
      "34                        gaming        79\n",
      "35                      clubbing        79\n",
      "36                       reading        79\n",
      "37                            tv        79\n",
      "38                       theater        79\n",
      "39                        movies        79\n",
      "40                      concerts        79\n",
      "41                         music        79\n",
      "42                      shopping        79\n",
      "43                          yoga        79\n"
     ]
    }
   ],
   "source": [
    "null_counts <- colSums(is.na(originalData_Clean))\n",
    "# null_counts[null_counts > 0]  # Show only columns with at least one NA\n",
    "\n",
    "# Show null counts as a sorted table\n",
    "null_counts <- colSums(is.na(originalData_Clean))\n",
    "null_table <- data.frame(\n",
    "  Feature = names(null_counts),\n",
    "  NullCount = as.integer(null_counts)\n",
    ")\n",
    "null_table <- null_table[null_table$NullCount > 0, ]\n",
    "null_table <- null_table[order(-null_table$NullCount), ]\n",
    "print(null_table)\n"
   ]
  },
  {
   "cell_type": "markdown",
   "id": "b1c8c424",
   "metadata": {},
   "source": [
    "# Dropping the Null columns and rows\n",
    "\n",
    "Drop specific columns since they have a high number of nulls and are not needed for the model. Mainly the columns expected_num_interested_in_me, expected_num_matches, shared_interests_partner. \n",
    "\n",
    "Drop rows that contain null values."
   ]
  },
  {
   "cell_type": "code",
   "execution_count": null,
   "id": "e4b06a0f",
   "metadata": {
    "vscode": {
     "languageId": "r"
    }
   },
   "outputs": [
    {
     "data": {
      "text/html": [
       "<ol class=list-inline>\n",
       "\t<li>'gender'</li>\n",
       "\t<li>'age'</li>\n",
       "\t<li>'race'</li>\n",
       "\t<li>'samerace'</li>\n",
       "\t<li>'importance_same_race'</li>\n",
       "\t<li>'importance_same_religion'</li>\n",
       "\t<li>'field'</li>\n",
       "\t<li>'attractive_important'</li>\n",
       "\t<li>'sincere_important'</li>\n",
       "\t<li>'intellicence_important'</li>\n",
       "\t<li>'funny_important'</li>\n",
       "\t<li>'ambtition_important'</li>\n",
       "\t<li>'shared_interests_important'</li>\n",
       "\t<li>'attractive'</li>\n",
       "\t<li>'sincere'</li>\n",
       "\t<li>'intelligence'</li>\n",
       "\t<li>'funny'</li>\n",
       "\t<li>'ambition'</li>\n",
       "\t<li>'attractive_partner'</li>\n",
       "\t<li>'sincere_partner'</li>\n",
       "\t<li>'intelligence_partner'</li>\n",
       "\t<li>'funny_partner'</li>\n",
       "\t<li>'ambition_partner'</li>\n",
       "\t<li>'sports'</li>\n",
       "\t<li>'tvsports'</li>\n",
       "\t<li>'exercise'</li>\n",
       "\t<li>'dining'</li>\n",
       "\t<li>'museums'</li>\n",
       "\t<li>'art'</li>\n",
       "\t<li>'hiking'</li>\n",
       "\t<li>'gaming'</li>\n",
       "\t<li>'clubbing'</li>\n",
       "\t<li>'reading'</li>\n",
       "\t<li>'tv'</li>\n",
       "\t<li>'theater'</li>\n",
       "\t<li>'movies'</li>\n",
       "\t<li>'concerts'</li>\n",
       "\t<li>'music'</li>\n",
       "\t<li>'shopping'</li>\n",
       "\t<li>'yoga'</li>\n",
       "\t<li>'interests_correlate'</li>\n",
       "\t<li>'met'</li>\n",
       "\t<li>'decision'</li>\n",
       "\t<li>'match'</li>\n",
       "</ol>\n"
      ],
      "text/latex": [
       "\\begin{enumerate*}\n",
       "\\item 'gender'\n",
       "\\item 'age'\n",
       "\\item 'race'\n",
       "\\item 'samerace'\n",
       "\\item 'importance\\_same\\_race'\n",
       "\\item 'importance\\_same\\_religion'\n",
       "\\item 'field'\n",
       "\\item 'attractive\\_important'\n",
       "\\item 'sincere\\_important'\n",
       "\\item 'intellicence\\_important'\n",
       "\\item 'funny\\_important'\n",
       "\\item 'ambtition\\_important'\n",
       "\\item 'shared\\_interests\\_important'\n",
       "\\item 'attractive'\n",
       "\\item 'sincere'\n",
       "\\item 'intelligence'\n",
       "\\item 'funny'\n",
       "\\item 'ambition'\n",
       "\\item 'attractive\\_partner'\n",
       "\\item 'sincere\\_partner'\n",
       "\\item 'intelligence\\_partner'\n",
       "\\item 'funny\\_partner'\n",
       "\\item 'ambition\\_partner'\n",
       "\\item 'sports'\n",
       "\\item 'tvsports'\n",
       "\\item 'exercise'\n",
       "\\item 'dining'\n",
       "\\item 'museums'\n",
       "\\item 'art'\n",
       "\\item 'hiking'\n",
       "\\item 'gaming'\n",
       "\\item 'clubbing'\n",
       "\\item 'reading'\n",
       "\\item 'tv'\n",
       "\\item 'theater'\n",
       "\\item 'movies'\n",
       "\\item 'concerts'\n",
       "\\item 'music'\n",
       "\\item 'shopping'\n",
       "\\item 'yoga'\n",
       "\\item 'interests\\_correlate'\n",
       "\\item 'met'\n",
       "\\item 'decision'\n",
       "\\item 'match'\n",
       "\\end{enumerate*}\n"
      ],
      "text/markdown": [
       "1. 'gender'\n",
       "2. 'age'\n",
       "3. 'race'\n",
       "4. 'samerace'\n",
       "5. 'importance_same_race'\n",
       "6. 'importance_same_religion'\n",
       "7. 'field'\n",
       "8. 'attractive_important'\n",
       "9. 'sincere_important'\n",
       "10. 'intellicence_important'\n",
       "11. 'funny_important'\n",
       "12. 'ambtition_important'\n",
       "13. 'shared_interests_important'\n",
       "14. 'attractive'\n",
       "15. 'sincere'\n",
       "16. 'intelligence'\n",
       "17. 'funny'\n",
       "18. 'ambition'\n",
       "19. 'attractive_partner'\n",
       "20. 'sincere_partner'\n",
       "21. 'intelligence_partner'\n",
       "22. 'funny_partner'\n",
       "23. 'ambition_partner'\n",
       "24. 'sports'\n",
       "25. 'tvsports'\n",
       "26. 'exercise'\n",
       "27. 'dining'\n",
       "28. 'museums'\n",
       "29. 'art'\n",
       "30. 'hiking'\n",
       "31. 'gaming'\n",
       "32. 'clubbing'\n",
       "33. 'reading'\n",
       "34. 'tv'\n",
       "35. 'theater'\n",
       "36. 'movies'\n",
       "37. 'concerts'\n",
       "38. 'music'\n",
       "39. 'shopping'\n",
       "40. 'yoga'\n",
       "41. 'interests_correlate'\n",
       "42. 'met'\n",
       "43. 'decision'\n",
       "44. 'match'\n",
       "\n",
       "\n"
      ],
      "text/plain": [
       " [1] \"gender\"                     \"age\"                       \n",
       " [3] \"race\"                       \"samerace\"                  \n",
       " [5] \"importance_same_race\"       \"importance_same_religion\"  \n",
       " [7] \"field\"                      \"attractive_important\"      \n",
       " [9] \"sincere_important\"          \"intellicence_important\"    \n",
       "[11] \"funny_important\"            \"ambtition_important\"       \n",
       "[13] \"shared_interests_important\" \"attractive\"                \n",
       "[15] \"sincere\"                    \"intelligence\"              \n",
       "[17] \"funny\"                      \"ambition\"                  \n",
       "[19] \"attractive_partner\"         \"sincere_partner\"           \n",
       "[21] \"intelligence_partner\"       \"funny_partner\"             \n",
       "[23] \"ambition_partner\"           \"sports\"                    \n",
       "[25] \"tvsports\"                   \"exercise\"                  \n",
       "[27] \"dining\"                     \"museums\"                   \n",
       "[29] \"art\"                        \"hiking\"                    \n",
       "[31] \"gaming\"                     \"clubbing\"                  \n",
       "[33] \"reading\"                    \"tv\"                        \n",
       "[35] \"theater\"                    \"movies\"                    \n",
       "[37] \"concerts\"                   \"music\"                     \n",
       "[39] \"shopping\"                   \"yoga\"                      \n",
       "[41] \"interests_correlate\"        \"met\"                       \n",
       "[43] \"decision\"                   \"match\"                     "
      ]
     },
     "metadata": {},
     "output_type": "display_data"
    }
   ],
   "source": [
    "# Drop specific columns\n",
    "cols_to_drop <- c(\n",
    "    \"expected_num_interested_in_me\", \"expected_num_matches\",\n",
    "    \"shared_interests_partner\", \"has_null\", \"wave\", \"expected_happy_with_sd_people\",\n",
    "    \"guess_prob_liked\", \"like\"\n",
    ") # expected happy, prob_liked not relevant to analysis\n",
    "originalData_Clean <- originalData_Clean[, !(names(originalData_Clean) %in% cols_to_drop)]\n",
    "\n",
    "colnames(originalData_Clean)\n"
   ]
  },
  {
   "cell_type": "code",
   "execution_count": null,
   "id": "75f700ff",
   "metadata": {
    "vscode": {
     "languageId": "r"
    }
   },
   "outputs": [],
   "source": [
    "# Drop rows that contain null values\n",
    "originalData_Clean <- na.omit(originalData_Clean)\n",
    "\n",
    "# Show null counts as a sorted table after dropping rows with nulls\n",
    "null_counts <- colSums(is.na(originalData_Clean))\n",
    "null_table <- data.frame(\n",
    "  Feature = names(null_counts),\n",
    "  NullCount = as.integer(null_counts)\n",
    ")\n",
    "null_table <- null_table[null_table$NullCount > 0, ]\n",
    "null_table <- null_table[order(-null_table$NullCount), ]\n",
    "print(null_table)\n"
   ]
  },
  {
   "cell_type": "markdown",
   "id": "624a74c1",
   "metadata": {},
   "source": [
    "# Scaling Issues\n",
    "\n",
    "Amount of columns out of range"
   ]
  },
  {
   "cell_type": "code",
   "execution_count": null,
   "id": "3f1192aa",
   "metadata": {
    "vscode": {
     "languageId": "r"
    }
   },
   "outputs": [],
   "source": [
    "# Table of how many values are out of range\n",
    "# List of columns to check for out-of-range values\n",
    "cols_to_check <- c(\n",
    "  \"like\", \"expected_happy_with_sd_people\",\n",
    "  \"attractive\", \"sincere\", \"intelligence\", \"funny\", \"ambition\",\n",
    "  \"attractive_partner\", \"sincere_partner\", \"intelligence_partner\", \"funny_partner\", \"ambition_partner\",\n",
    "  \"sports\", \"tvsports\", \"exercise\", \"dining\", \"museums\", \"art\", \"hiking\", \"gaming\", \"clubbing\", \"reading\", \"tv\", \"theater\", \"movies\", \"concerts\", \"music\", \"shopping\", \"yoga\"\n",
    ") # removing \"important_\" features due to range 0-100\n",
    "\n",
    "# Check which of these columns have values above 10 or below 1, and how many\n",
    "out_of_range_counts <- sapply(\n",
    "  originalData_Clean[, cols_to_check, drop = FALSE],\n",
    "  function(col) sum(col > 10 | col < 0, na.rm = TRUE)\n",
    ")\n",
    "out_of_range_table <- data.frame(\n",
    "  Feature = names(out_of_range_counts),\n",
    "  CountOutOfRange = as.integer(out_of_range_counts)\n",
    ")\n",
    "out_of_range_table <- out_of_range_table[out_of_range_table$CountOutOfRange > 0, ]\n",
    "out_of_range_table <- out_of_range_table[order(-out_of_range_table$CountOutOfRange), ]\n",
    "print(out_of_range_table)\n"
   ]
  },
  {
   "cell_type": "code",
   "execution_count": null,
   "id": "3a313b1d",
   "metadata": {
    "vscode": {
     "languageId": "r"
    }
   },
   "outputs": [],
   "source": [
    "cols_to_check_importance <- c(\n",
    "  \"importance_same_race\", \"importance_same_religion\",\n",
    "  \"attractive_important\", \"sincere_important\", \"intellicence_important\", \"funny_important\", \"ambtition_important\", \"shared_interests_important\"\n",
    ")\n",
    "\n",
    "# Check which of these columns have values above 10 or below 1, and how many\n",
    "out_of_range_importance_counts <- sapply(\n",
    "  originalData_Clean[, cols_to_check_importance, drop = FALSE],\n",
    "  function(col) sum(col > 100 | col < 0, na.rm = TRUE)\n",
    ")\n",
    "out_of_range_importance_table <- data.frame(\n",
    "  Feature = names(out_of_range_importance_counts),\n",
    "  CountOutOfRange = as.integer(out_of_range_importance_counts)\n",
    ")\n",
    "out_of_range_importance_table <- out_of_range_importance_table[out_of_range_importance_table$CountOutOfRange > 0, ]\n",
    "out_of_range_importance_table <- out_of_range_importance_table[order(-out_of_range_importance_table$CountOutOfRange), ]\n",
    "print(out_of_range_importance_table)\n"
   ]
  },
  {
   "cell_type": "markdown",
   "id": "ebeb6e07",
   "metadata": {},
   "source": [
    "## Method 1: keep values as they are"
   ]
  },
  {
   "cell_type": "code",
   "execution_count": null,
   "id": "ea6a4821",
   "metadata": {
    "vscode": {
     "languageId": "r"
    }
   },
   "outputs": [],
   "source": [
    "write.csv(originalData_Clean, \"../cleanedData/data_clean.csv\", row.names = FALSE)\n"
   ]
  },
  {
   "cell_type": "markdown",
   "id": "4cb9c640",
   "metadata": {},
   "source": [
    "## Method 2: Remove out of range values"
   ]
  },
  {
   "cell_type": "code",
   "execution_count": null,
   "id": "8a4e80a4",
   "metadata": {
    "vscode": {
     "languageId": "r"
    }
   },
   "outputs": [],
   "source": [
    "# Keep only rows where all specified columns are between 1 and 10 (inclusive)\n",
    "in_range <- apply(\n",
    "  originalData_Clean[, cols_to_check, drop = FALSE],\n",
    "  1,\n",
    "  function(row) all(row >= 0 & row <= 10, na.rm = TRUE)\n",
    ")\n",
    "scale_removed <- originalData_Clean[in_range, ]\n",
    "\n",
    "out_of_range_counts <- sapply(\n",
    "  scale_removed[, cols_to_check, drop = FALSE],\n",
    "  function(col) sum(col > 10 | col < 0, na.rm = TRUE)\n",
    ")\n",
    "out_of_range_table <- data.frame(\n",
    "  Feature = names(out_of_range_counts),\n",
    "  CountOutOfRange = as.integer(out_of_range_counts)\n",
    ")\n",
    "out_of_range_table <- out_of_range_table[out_of_range_table$CountOutOfRange > 0, ]\n",
    "out_of_range_table <- out_of_range_table[order(-out_of_range_table$CountOutOfRange), ]\n",
    "print(out_of_range_table)\n",
    "\n",
    "print(paste(\"Rows remaining after removing out-of-range values:\", nrow(scale_removed)))\n",
    "write.csv(scale_removed, \"../cleanedData/data_clean_scaling_removed.csv\", row.names = FALSE)\n"
   ]
  },
  {
   "cell_type": "markdown",
   "id": "fb0f2797",
   "metadata": {},
   "source": [
    "## Method 3: Scale out of range values (Min and Maxing method)"
   ]
  },
  {
   "cell_type": "code",
   "execution_count": null,
   "id": "476f5574",
   "metadata": {
    "vscode": {
     "languageId": "r"
    }
   },
   "outputs": [],
   "source": [
    "# df_scale <- originalData_Clean[cols_to_check]\n",
    "# df_rest  <- originalData_Clean[setdiff(names(originalData_Clean), cols_to_check)]\n",
    "\n",
    "# # Function to rescale to [1,10]\n",
    "# rescale_1_10 <- function(x) {\n",
    "#   rng <- range(x, na.rm = TRUE)\n",
    "#   ( (x - rng[1]) / (rng[2] - rng[1]) ) * 9 + 1\n",
    "# }\n",
    "\n",
    "# # Apply to the selected columns\n",
    "# df_scaled <- as.data.frame(lapply(df_scale, rescale_1_10))\n",
    "\n",
    "# # Recombine with the rest of the dataset\n",
    "# range_scaled <- cbind(df_rest, df_scaled)\n",
    "\n",
    "# print(paste(\"Rows remaining after removing out-of-range values:\", nrow(range_scaled)))\n",
    "# head(range_scaled[\"attractive_important\"], 15)\n",
    "\n",
    "range_scaled[cols_to_check] <- lapply(range_scaled[cols_to_check], function(col) {\n",
    "  col[col > 10] <- col[col > 10] / 10\n",
    "  return(col)\n",
    "})\n",
    "\n",
    "print(paste(\"Rows remaining after removing out-of-range values:\", nrow(range_scaled)))\n",
    "head(range_scaled[\"attractive_important\"], 15)\n",
    "\n",
    "write.csv(range_scaled, \"../cleanedData/data_clean_scaled_minmax.csv\", row.names = FALSE)\n"
   ]
  }
 ],
 "metadata": {
  "kernelspec": {
   "display_name": "R",
   "language": "R",
   "name": "ir"
  },
  "language_info": {
   "codemirror_mode": "r",
   "file_extension": ".r",
   "mimetype": "text/x-r-source",
   "name": "R",
   "pygments_lexer": "r",
   "version": "3.6.1"
  }
 },
 "nbformat": 4,
 "nbformat_minor": 5
}
